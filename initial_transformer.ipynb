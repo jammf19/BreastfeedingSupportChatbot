{
 "cells": [
  {
   "cell_type": "code",
   "execution_count": null,
   "metadata": {},
   "outputs": [],
   "source": [
    "#import libraries\n",
    "import pandas as pd\n",
    "from transformers import AutoTokenizer, AutoModel, pipeline\n",
    "from sentence_transformers import SentenceTransformer\n",
    "import torch\n",
    "import numpy as np\n",
    "from sklearn.metrics.pairwise import cosine_similarity\n"
   ]
  },
  {
   "cell_type": "code",
   "execution_count": 5,
   "metadata": {},
   "outputs": [],
   "source": [
    "from dotenv import load_dotenv\n",
    "import os\n",
    "\n",
    "load_dotenv()\n",
    "hf_token = os.getenv(\"HUGGINGFACEHUB_API_TOKEN\"),"
   ]
  },
  {
   "cell_type": "code",
   "execution_count": 6,
   "metadata": {},
   "outputs": [],
   "source": [
    "# Load the CSV data\n",
    "csv_path = r'C:\\Users\\Jade Ana-Maria\\peckham1\\NLP_for_Creatives\\NLP_for_Creatives\\final_project\\data\\preprocessed_lll_data.csv'\n",
    "df = pd.read_csv(csv_path)\n",
    "paragraphs = df['paragraph'].tolist()\n",
    "paragraph_sources = df['source'].tolist()\n",
    "post_titles = df['title'].tolist()"
   ]
  },
  {
   "cell_type": "markdown",
   "metadata": {},
   "source": [
    "Initialise the models"
   ]
  },
  {
   "cell_type": "code",
   "execution_count": 7,
   "metadata": {},
   "outputs": [],
   "source": [
    "# 1. Sentence-BERT model for encoding text into embeddings\n",
    "embedding_model = SentenceTransformer('all-MiniLM-L6-v2')"
   ]
  },
  {
   "cell_type": "code",
   "execution_count": 8,
   "metadata": {},
   "outputs": [
    {
     "name": "stderr",
     "output_type": "stream",
     "text": [
      "Device set to use cpu\n"
     ]
    }
   ],
   "source": [
    "# 2. Question-answering pipeline for extracting specific answers\n",
    "qa_model = pipeline(\n",
    "    \"question-answering\",\n",
    "    model=\"deepset/roberta-base-squad2\",\n",
    "    tokenizer=\"deepset/roberta-base-squad2\"\n",
    ")"
   ]
  },
  {
   "cell_type": "code",
   "execution_count": 9,
   "metadata": {},
   "outputs": [],
   "source": [
    "# Create embeddings for each paragraph\n",
    "paragraph_embeddings = embedding_model.encode(paragraphs)"
   ]
  },
  {
   "cell_type": "code",
   "execution_count": 12,
   "metadata": {},
   "outputs": [],
   "source": [
    "# Define the answer_question function\n",
    "def find_relevant_content(query, top_k=3):\n",
    "    # Encode the query\n",
    "    query_embedding = embedding_model.encode([query])[0]\n",
    "    \n",
    "    # Calculate similarity scores\n",
    "    similarities = cosine_similarity(\n",
    "        [query_embedding], \n",
    "        paragraph_embeddings\n",
    "    )[0]\n",
    "    \n",
    "    # Get indices of top K most similar paragraphs\n",
    "    top_indices = similarities.argsort()[-top_k:][::-1]\n",
    "    \n",
    "    relevant_content = []\n",
    "    for idx in top_indices:\n",
    "        relevant_content.append({\n",
    "            'paragraph': paragraphs[idx],\n",
    "            'source': paragraph_sources[idx],\n",
    "            'title': post_titles[idx],\n",
    "            'score': similarities[idx]\n",
    "        })\n",
    "        \n",
    "    return relevant_content\n"
   ]
  },
  {
   "cell_type": "code",
   "execution_count": 14,
   "metadata": {},
   "outputs": [],
   "source": [
    "def answer_question(query):\n",
    "    # First, find relevant content\n",
    "    relevant_content = find_relevant_content(query, top_k=3)\n",
    "    \n",
    "    if not relevant_content:\n",
    "        return {\n",
    "            'answer': \"I'm sorry, I couldn't find information about that in the La Leche League resources.\",\n",
    "            'source': None,\n",
    "            'context': None\n",
    "        }\n",
    "    \n",
    "    # Combine the most relevant paragraphs into a context\n",
    "    context = \" \".join([item['paragraph'] for item in relevant_content])\n",
    "    \n",
    "    # Use question-answering to extract a specific answer\n",
    "    try:\n",
    "        qa_result = qa_model(\n",
    "            question=query,\n",
    "            context=context\n",
    "        )\n",
    "        \n",
    "        answer = qa_result['answer']\n",
    "        score = qa_result['score']\n",
    "        \n",
    "        # If confidence is low, use the whole paragraph\n",
    "        if score < 0.1:\n",
    "            answer = relevant_content[0]['paragraph']\n",
    "            \n",
    "        return {\n",
    "            'answer': answer,\n",
    "            'source': relevant_content[0]['source'],\n",
    "            'title': relevant_content[0]['title'],\n",
    "            'context': context\n",
    "        }\n",
    "        \n",
    "    except Exception as e:\n",
    "        # Fallback to the most relevant paragraph\n",
    "        return {\n",
    "            'answer': relevant_content[0]['paragraph'],\n",
    "            'source': relevant_content[0]['source'],\n",
    "            'title': relevant_content[0]['title'],\n",
    "            'context': context\n",
    "        }\n"
   ]
  },
  {
   "cell_type": "code",
   "execution_count": 15,
   "metadata": {},
   "outputs": [],
   "source": [
    "def get_response(user_input):\n",
    "    \"\"\"Main method to interact with the chatbot\"\"\"\n",
    "    result = answer_question(user_input)\n",
    "    \n",
    "    response = f\"{result['answer']}\\n\\n\"\n",
    "    response += f\"For more information please visit the La Leche League article: '{result['title']}'\\n\"\n",
    "    response += f\"Source: {result['source']}\"\n",
    "    \n",
    "    return response"
   ]
  },
  {
   "cell_type": "code",
   "execution_count": 16,
   "metadata": {},
   "outputs": [
    {
     "name": "stdout",
     "output_type": "stream",
     "text": [
      "Breastfeeding Information Assistant (type 'exit' to quit)\n",
      "Please ask your question regarding breastfeeding:\n",
      "\n",
      "Information aboutStoring your Milk is here.\n",
      "\n",
      "For more information please visit the La Leche League article: 'Storing Your Milk'\n",
      "Source: https://laleche.org.uk/storing-your-milk/\n",
      "\n"
     ]
    }
   ],
   "source": [
    "# Interactive loop\n",
    "print(\"Breastfeeding Information Assistant (type 'exit' to quit)\")\n",
    "print(\"Please ask your question regarding breastfeeding:\")\n",
    "    \n",
    "while True:\n",
    "    user_input = input(\"> \")\n",
    "    if user_input.lower() == 'exit':\n",
    "        break\n",
    "            \n",
    "    response = get_response(user_input)\n",
    "    print(\"\\n\" + response + \"\\n\")"
   ]
  }
 ],
 "metadata": {
  "kernelspec": {
   "display_name": "Python 3",
   "language": "python",
   "name": "python3"
  },
  "language_info": {
   "codemirror_mode": {
    "name": "ipython",
    "version": 3
   },
   "file_extension": ".py",
   "mimetype": "text/x-python",
   "name": "python",
   "nbconvert_exporter": "python",
   "pygments_lexer": "ipython3",
   "version": "3.11.9"
  }
 },
 "nbformat": 4,
 "nbformat_minor": 2
}
