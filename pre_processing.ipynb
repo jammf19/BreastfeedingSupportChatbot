{
 "cells": [
  {
   "cell_type": "code",
   "execution_count": 9,
   "metadata": {},
   "outputs": [],
   "source": [
    "#import library\n",
    "import pandas as pd"
   ]
  },
  {
   "cell_type": "code",
   "execution_count": 10,
   "metadata": {},
   "outputs": [],
   "source": [
    "#read csv file\n",
    "df = pd.read_csv(\"data\\combined_lll_data.csv\")"
   ]
  },
  {
   "cell_type": "code",
   "execution_count": null,
   "metadata": {},
   "outputs": [],
   "source": [
    "#process the posts (extracting and organising text)\n",
    "#Extract the paragraphs from content to make chunks of text\n",
    "paragraphs = []\n",
    "paragraphs_sources = []\n",
    "post_titles = []\n",
    "\n",
    "for _, row in df.iterrows():\n",
    "    content = row['Content']\n",
    "    title = row['Post Title']\n",
    "    url = row['URL']\n",
    "\n",
    "    #Split  content into paragraphs\n",
    "    content_paragraphs = content.split('\\n')\n",
    "\n",
    "    for paragraph in content_paragraphs:\n",
    "        # Skip empty paragraphs or very short ones\n",
    "        if len(paragraph.strip()) < 20:\n",
    "            continue\n",
    "        paragraphs.append(paragraph)\n",
    "        paragraphs_sources.append(url)\n",
    "        post_titles.append(title)\n",
    "\n",
    "# Create a new DataFrame with the processed paragraphs\n",
    "processed_df = pd.DataFrame({\n",
    "    'paragraph': paragraphs,\n",
    "    'source': paragraphs_sources,\n",
    "    'title': post_titles\n",
    "})"
   ]
  },
  {
   "cell_type": "code",
   "execution_count": null,
   "metadata": {},
   "outputs": [
    {
     "name": "stdout",
     "output_type": "stream",
     "text": [
      "Done!\n"
     ]
    }
   ],
   "source": [
    "# Save to a CSV file (optional)\n",
    "processed_df.to_csv('data\\preprocessed_lll_data.csv', index=False)\n",
    "print(\"Done!\")"
   ]
  }
 ],
 "metadata": {
  "kernelspec": {
   "display_name": "Python 3",
   "language": "python",
   "name": "python3"
  },
  "language_info": {
   "codemirror_mode": {
    "name": "ipython",
    "version": 3
   },
   "file_extension": ".py",
   "mimetype": "text/x-python",
   "name": "python",
   "nbconvert_exporter": "python",
   "pygments_lexer": "ipython3",
   "version": "3.11.9"
  }
 },
 "nbformat": 4,
 "nbformat_minor": 2
}
